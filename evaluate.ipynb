{
 "cells": [
  {
   "cell_type": "code",
   "execution_count": 1,
   "metadata": {},
   "outputs": [],
   "source": [
    "import os\n",
    "import json\n",
    "import tqdm\n",
    "import argparse\n",
    "\n",
    "from src.util import *\n",
    "from src.train import *\n",
    "from src.evaluate import *"
   ]
  },
  {
   "cell_type": "code",
   "execution_count": 2,
   "metadata": {},
   "outputs": [],
   "source": [
    "parser = argparse.ArgumentParser(description=\"TestLoop\",\n",
    "                                        formatter_class=argparse.ArgumentDefaultsHelpFormatter)\n",
    "parser.add_argument(\"--loop\", default=\"stroll\", choices=[\"stroll\", \"test\"], type=str, dest=\"loop\")\n",
    "parser.add_argument(\"--lr\", default=2e-4, type=float, dest=\"lr\")\n",
    "parser.add_argument(\"--batch_size\", default=1, type=int, dest=\"batch_size\")\n",
    "parser.add_argument(\"--train_continue\", default=\"on\", choices=[\"on\", \"off\"], type=str, dest=\"train_continue\")\n",
    "parser.add_argument(\"--num_epoch\", default=100, type=int, dest=\"num_epoch\")\n",
    "parser.add_argument(\"--task\", default=\"pose estimation\", choices=[\"pose estimation\"], type=str, dest=\"task\")\n",
    "parser.add_argument(\"--ny\", default=256, type=int, dest=\"ny\")\n",
    "parser.add_argument(\"--nx\", default=256, type=int, dest=\"nx\")\n",
    "parser.add_argument(\"--nch\", default=3, type=int, dest=\"nch\")\n",
    "parser.add_argument(\"--nker\", default=64, type=int, dest=\"nker\")\n",
    "parser.add_argument(\"--norm\", default='inorm', type=str, dest=\"norm\")\n",
    "parser.add_argument(\"--network\", default=\"PoseResNet\", choices=[\"PoseResNet\"], type=str, dest=\"network\")\n",
    "parser.add_argument(\"--resnet_depth\", default=50, choices=[18, 34, 50, 101, 152], type=int, dest=\"resnet_depth\")\n",
    "parser.add_argument(\"--joint_weight\", default=False, type=bool, dest=\"joint_weight\")\n",
    "parser.add_argument(\"--cuda\", default=\"cuda\", choices=[\"cuda\", \"cuda:0\", \"cuda:1\"], type=str, dest=\"cuda\")\n",
    "parser.add_argument(\"--spec\", default=\"all\", type=str, dest=\"spec\")\n",
    "\n",
    "args = parser.parse_args(args=[])\n",
    "vars = vars(args)"
   ]
  },
  {
   "cell_type": "code",
   "execution_count": 3,
   "metadata": {},
   "outputs": [],
   "source": [
    "cwd = os.getcwd()\n",
    "datasets_dir = os.path.join(cwd, \"datasets\")\n",
    "test_report_dir = os.path.join(cwd, \"test_results\")\n",
    "test_design_list = os.listdir(datasets_dir)"
   ]
  },
  {
   "cell_type": "code",
   "execution_count": null,
   "metadata": {},
   "outputs": [
    {
     "name": "stderr",
     "output_type": "stream",
     "text": [
      "  0%|                                                                                                                                                                   | 0/2 [00:00<?, ?it/s]C:\\Users\\come1\\anaconda3\\envs\\pytorch38\\lib\\site-packages\\torch\\nn\\functional.py:3103: UserWarning: The default behavior for interpolate/upsample with float scale_factor changed in 1.6.0 to align with other frameworks/libraries, and now uses scale_factor directly, instead of relying on the computed output size. If you wish to restore the old behavior, please set recompute_scale_factor=True. See the documentation of nn.Upsample for details. \n",
      "  warnings.warn(\"The default behavior for interpolate/upsample with float scale_factor changed \"\n",
      " 50%|█████████████████████████████████████████████████████████████████████████████                                                                             | 1/2 [02:02<02:02, 123.00s/it]"
     ]
    }
   ],
   "source": [
    "eval_results = {}\n",
    "for idx_d, design in enumerate(tqdm.tqdm(test_design_list)):\n",
    "    setups_dir = os.path.join(datasets_dir, design)\n",
    "    reports_dir = os.path.join(test_report_dir, design)\n",
    "\n",
    "    setups_list = os.listdir(setups_dir)\n",
    "    for idx_s, setup in enumerate(setups_list):\n",
    "        # Set arguments for evaluation\n",
    "        vars[\"mode\"] = \"test\"\n",
    "\n",
    "        train_data_dir = os.path.join(setups_dir, setup)\n",
    "        vars[\"data_dir\"] = train_data_dir\n",
    "\n",
    "        with open(os.path.join(train_data_dir, \"train\", \"labels\", \"mpii_style.json\"), \"r\", encoding=\"utf-8\") as fread:\n",
    "            labels_dict = json.load(fread)\n",
    "            num_mark = len(labels_dict[0][\"joints_vis\"])\n",
    "        vars[\"num_mark\"] = num_mark\n",
    "\n",
    "        args.ckpt_dir = os.path.join(reports_dir, setup, \"checkpoint\")\n",
    "\n",
    "        # Evaluate\n",
    "        evals = evaluate(args=args)\n",
    "        eval_results[\"%s\" % design+\"-\"+setup] = evals"
   ]
  },
  {
   "cell_type": "code",
   "execution_count": null,
   "metadata": {},
   "outputs": [],
   "source": [
    "save_dir = os.path.join(test_report_dir, \"evaluation.json\")\n",
    "with open(save_dir, \"w\", encoding = \"UTF-8-SIG\") as file:\n",
    "    json.dump(eval_results, file, ensure_ascii=False)"
   ]
  },
  {
   "cell_type": "code",
   "execution_count": null,
   "metadata": {},
   "outputs": [],
   "source": []
  }
 ],
 "metadata": {
  "kernelspec": {
   "display_name": "pytorch38",
   "language": "python",
   "name": "pytorch38"
  },
  "language_info": {
   "codemirror_mode": {
    "name": "ipython",
    "version": 3
   },
   "file_extension": ".py",
   "mimetype": "text/x-python",
   "name": "python",
   "nbconvert_exporter": "python",
   "pygments_lexer": "ipython3",
   "version": "3.8.5"
  }
 },
 "nbformat": 4,
 "nbformat_minor": 4
}
