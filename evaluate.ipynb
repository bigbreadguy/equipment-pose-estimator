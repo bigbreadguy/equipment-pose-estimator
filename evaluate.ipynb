{
 "cells": [
  {
   "cell_type": "code",
   "execution_count": 1,
   "metadata": {},
   "outputs": [],
   "source": [
    "import os\n",
    "import json\n",
    "import tqdm\n",
    "import argparse\n",
    "\n",
    "from src.util import *\n",
    "from src.train import *\n",
    "from src.evaluate import *"
   ]
  },
  {
   "cell_type": "code",
   "execution_count": 2,
   "metadata": {},
   "outputs": [],
   "source": [
    "parser = argparse.ArgumentParser(description=\"TestLoop\",\n",
    "                                        formatter_class=argparse.ArgumentDefaultsHelpFormatter)\n",
    "parser.add_argument(\"--loop\", default=\"stroll\", choices=[\"stroll\", \"test\"], type=str, dest=\"loop\")\n",
    "parser.add_argument(\"--lr\", default=2e-4, type=float, dest=\"lr\")\n",
    "parser.add_argument(\"--batch_size\", default=1, type=int, dest=\"batch_size\")\n",
    "parser.add_argument(\"--train_continue\", default=\"on\", choices=[\"on\", \"off\"], type=str, dest=\"train_continue\")\n",
    "parser.add_argument(\"--num_epoch\", default=100, type=int, dest=\"num_epoch\")\n",
    "parser.add_argument(\"--task\", default=\"pose estimation\", choices=[\"pose estimation\"], type=str, dest=\"task\")\n",
    "parser.add_argument(\"--ny\", default=256, type=int, dest=\"ny\")\n",
    "parser.add_argument(\"--nx\", default=256, type=int, dest=\"nx\")\n",
    "parser.add_argument(\"--nch\", default=3, type=int, dest=\"nch\")\n",
    "parser.add_argument(\"--nker\", default=64, type=int, dest=\"nker\")\n",
    "parser.add_argument(\"--norm\", default='inorm', type=str, dest=\"norm\")\n",
    "parser.add_argument(\"--network\", default=\"PoseResNet\", choices=[\"PoseResNet\"], type=str, dest=\"network\")\n",
    "parser.add_argument(\"--resnet_depth\", default=50, choices=[18, 34, 50, 101, 152], type=int, dest=\"resnet_depth\")\n",
    "parser.add_argument(\"--joint_weight\", default=False, type=bool, dest=\"joint_weight\")\n",
    "parser.add_argument(\"--cuda\", default=\"cuda\", choices=[\"cuda\", \"cuda:0\", \"cuda:1\"], type=str, dest=\"cuda\")\n",
    "parser.add_argument(\"--spec\", default=\"all\", type=str, dest=\"spec\")\n",
    "\n",
    "args = parser.parse_args(args=[])\n",
    "vars = vars(args)"
   ]
  },
  {
   "cell_type": "code",
   "execution_count": 3,
   "metadata": {},
   "outputs": [],
   "source": [
    "cwd = os.getcwd()\n",
    "datasets_dir = os.path.join(cwd, \"datasets\")\n",
    "test_report_dir = os.path.join(cwd, \"test_results\")\n",
    "test_design_list = os.listdir(datasets_dir)"
   ]
  },
  {
   "cell_type": "code",
   "execution_count": 4,
   "metadata": {},
   "outputs": [
    {
     "name": "stderr",
     "output_type": "stream",
     "text": [
      "\r",
      "  0%|                                                                                                                                 | 0/2 [00:00<?, ?it/s]"
     ]
    },
    {
     "name": "stdout",
     "output_type": "stream",
     "text": [
      "(1, 3, 57, 57)\n",
      "(1, 3, 57, 57)\n",
      "(1, 3, 57, 57)\n",
      "(1, 3, 57, 57)\n",
      "(1, 3, 57, 57)\n",
      "(1, 3, 57, 57)\n",
      "(1, 3, 57, 57)\n",
      "(1, 3, 57, 57)\n",
      "(1, 3, 57, 57)\n",
      "(1, 3, 57, 57)\n",
      "(1, 3, 57, 57)\n",
      "(1, 3, 57, 57)\n",
      "(1, 3, 57, 57)\n",
      "(1, 3, 57, 57)\n",
      "(1, 3, 57, 57)\n",
      "(1, 3, 57, 57)\n",
      "(1, 3, 57, 57)\n",
      "(1, 3, 57, 57)\n",
      "(1, 3, 57, 57)\n",
      "(1, 3, 57, 57)\n",
      "(1, 3, 57, 57)\n",
      "(1, 3, 57, 57)\n",
      "(1, 3, 57, 57)\n",
      "(1, 3, 57, 57)\n",
      "(1, 3, 57, 57)\n",
      "(1, 3, 57, 57)\n",
      "(1, 3, 57, 57)\n",
      "(1, 3, 57, 57)\n",
      "(1, 3, 57, 57)\n",
      "(1, 3, 57, 57)\n",
      "(1, 3, 57, 57)\n",
      "(1, 3, 57, 57)\n",
      "(1, 3, 57, 57)\n",
      "(1, 3, 57, 57)\n",
      "(1, 3, 57, 57)\n",
      "(1, 3, 57, 57)\n",
      "(1, 3, 57, 57)\n",
      "(1, 3, 57, 57)\n",
      "(1, 3, 57, 57)\n",
      "(1, 3, 57, 57)\n",
      "(1, 3, 57, 57)\n",
      "(1, 3, 57, 57)\n",
      "(1, 3, 57, 57)\n",
      "(1, 3, 57, 57)\n",
      "(1, 3, 57, 57)\n",
      "(1, 3, 57, 57)\n",
      "(1, 3, 57, 57)\n",
      "(1, 3, 57, 57)\n",
      "(1, 3, 57, 57)\n",
      "(1, 3, 57, 57)\n",
      "(1, 3, 57, 57)\n",
      "(1, 3, 57, 57)\n",
      "(1, 3, 57, 57)\n",
      "(1, 3, 57, 57)\n",
      "(1, 3, 57, 57)\n",
      "(1, 3, 57, 57)\n",
      "(1, 3, 57, 57)\n",
      "(1, 3, 57, 57)\n",
      "(1, 3, 57, 57)\n",
      "(1, 3, 57, 57)\n",
      "(1, 3, 57, 57)\n",
      "(1, 3, 57, 57)\n",
      "(1, 3, 57, 57)\n",
      "(1, 3, 57, 57)\n",
      "(1, 3, 57, 57)\n",
      "(1, 3, 57, 57)\n",
      "(1, 3, 57, 57)\n",
      "(1, 3, 57, 57)\n",
      "(1, 3, 57, 57)\n",
      "(1, 3, 57, 57)\n",
      "(1, 3, 57, 57)\n",
      "(1, 3, 57, 57)\n",
      "(1, 3, 57, 57)\n",
      "(1, 3, 57, 57)\n",
      "(1, 3, 57, 57)\n",
      "(1, 3, 57, 57)\n",
      "(1, 3, 57, 57)\n",
      "(1, 3, 57, 57)\n",
      "(1, 3, 57, 57)\n",
      "(1, 3, 57, 57)\n",
      "(1, 3, 57, 57)\n",
      "(1, 3, 57, 57)\n",
      "(1, 3, 57, 57)\n",
      "(1, 3, 57, 57)\n",
      "(1, 3, 57, 57)\n",
      "(1, 3, 57, 57)\n",
      "(1, 3, 57, 57)\n",
      "(1, 3, 57, 57)\n",
      "(1, 3, 57, 57)\n",
      "(1, 3, 57, 57)\n",
      "(1, 3, 57, 57)\n",
      "(1, 3, 57, 57)\n",
      "(1, 3, 57, 57)\n",
      "(1, 3, 57, 57)\n",
      "(1, 3, 57, 57)\n",
      "(1, 3, 57, 57)\n",
      "(1, 3, 57, 57)\n",
      "(1, 3, 57, 57)\n",
      "(1, 3, 57, 57)\n",
      "(1, 3, 57, 57)\n",
      "(1, 3, 57, 57)\n",
      "(1, 3, 57, 57)\n",
      "(1, 3, 57, 57)\n",
      "(1, 3, 57, 57)\n",
      "(1, 3, 57, 57)\n",
      "(1, 3, 57, 57)\n",
      "(1, 3, 57, 57)\n",
      "(1, 3, 57, 57)\n",
      "(1, 3, 57, 57)\n",
      "(1, 3, 57, 57)\n",
      "(1, 3, 57, 57)\n",
      "(1, 3, 57, 57)\n",
      "(1, 3, 57, 57)\n",
      "(1, 3, 57, 57)\n",
      "(1, 3, 57, 57)\n",
      "(1, 3, 57, 57)\n",
      "(1, 3, 57, 57)\n",
      "(1, 3, 57, 57)\n",
      "(1, 3, 57, 57)\n",
      "(1, 3, 57, 57)\n",
      "(1, 3, 57, 57)\n",
      "(1, 3, 57, 57)\n",
      "(1, 3, 57, 57)\n",
      "(1, 3, 57, 57)\n",
      "(1, 3, 57, 57)\n",
      "(1, 3, 57, 57)\n",
      "(1, 3, 57, 57)\n",
      "(1, 3, 57, 57)\n",
      "(1, 3, 57, 57)\n",
      "(1, 3, 57, 57)\n",
      "(1, 3, 57, 57)\n",
      "(1, 3, 57, 57)\n",
      "(1, 3, 57, 57)\n",
      "(1, 3, 57, 57)\n",
      "(1, 3, 57, 57)\n",
      "(1, 3, 57, 57)\n",
      "(1, 3, 57, 57)\n",
      "(1, 3, 57, 57)\n",
      "(1, 3, 57, 57)\n",
      "(1, 3, 57, 57)\n",
      "(1, 3, 57, 57)\n",
      "(1, 3, 57, 57)\n",
      "(1, 3, 57, 57)\n",
      "(1, 3, 57, 57)\n",
      "(1, 3, 57, 57)\n",
      "(1, 3, 57, 57)\n",
      "(1, 3, 57, 57)\n",
      "(1, 3, 57, 57)\n",
      "(1, 3, 57, 57)\n",
      "(1, 3, 57, 57)\n",
      "(1, 3, 57, 57)\n",
      "(1, 3, 57, 57)\n",
      "(1, 3, 57, 57)\n",
      "(1, 3, 57, 57)\n",
      "(1, 3, 57, 57)\n",
      "(1, 3, 57, 57)\n",
      "(1, 3, 57, 57)\n",
      "(1, 3, 57, 57)\n",
      "(1, 3, 57, 57)\n",
      "(1, 3, 57, 57)\n",
      "(1, 3, 57, 57)\n",
      "(1, 3, 57, 57)\n",
      "(1, 3, 57, 57)\n",
      "(1, 3, 57, 57)\n",
      "(1, 3, 57, 57)\n",
      "(1, 3, 57, 57)\n",
      "(1, 3, 57, 57)\n",
      "(1, 3, 57, 57)\n",
      "(1, 3, 57, 57)\n",
      "(1, 3, 57, 57)\n",
      "(1, 3, 57, 57)\n",
      "(1, 3, 57, 57)\n",
      "(1, 3, 57, 57)\n",
      "(1, 3, 57, 57)\n",
      "(1, 3, 57, 57)\n",
      "(1, 3, 57, 57)\n",
      "(1, 3, 57, 57)\n",
      "(1, 3, 57, 57)\n",
      "(1, 3, 57, 57)\n",
      "(1, 3, 57, 57)\n",
      "(1, 3, 57, 57)\n",
      "(1, 3, 57, 57)\n",
      "(1, 3, 57, 57)\n",
      "(1, 3, 57, 57)\n",
      "(1, 3, 57, 57)\n",
      "(1, 3, 57, 57)\n",
      "(1, 3, 57, 57)\n",
      "(1, 3, 57, 57)\n",
      "(1, 3, 57, 57)\n",
      "(1, 3, 57, 57)\n",
      "(1, 3, 57, 57)\n",
      "(1, 3, 57, 57)\n",
      "(1, 3, 57, 57)\n",
      "(1, 3, 57, 57)\n",
      "(1, 3, 57, 57)\n",
      "(1, 3, 57, 57)\n",
      "(1, 3, 57, 57)\n",
      "(1, 3, 57, 57)\n",
      "(1, 3, 57, 57)\n",
      "(1, 3, 57, 57)\n",
      "(1, 3, 57, 57)\n",
      "(1, 3, 57, 57)\n",
      "(1, 3, 57, 57)\n",
      "(1, 3, 57, 57)\n",
      "(1, 3, 57, 57)\n",
      "(1, 3, 57, 57)\n",
      "(1, 3, 57, 57)\n"
     ]
    },
    {
     "name": "stderr",
     "output_type": "stream",
     "text": [
      "\r",
      "  0%|                                                                                                                                 | 0/2 [00:08<?, ?it/s]"
     ]
    },
    {
     "name": "stdout",
     "output_type": "stream",
     "text": [
      "(1, 3, 57, 57)\n",
      "(1, 3, 57, 57)\n",
      "(1, 3, 57, 57)\n",
      "(1, 3, 57, 57)\n",
      "(1, 3, 57, 57)\n",
      "(1, 3, 57, 57)\n"
     ]
    },
    {
     "name": "stderr",
     "output_type": "stream",
     "text": [
      "\n"
     ]
    },
    {
     "ename": "KeyboardInterrupt",
     "evalue": "",
     "output_type": "error",
     "traceback": [
      "\u001b[1;31m---------------------------------------------------------------------------\u001b[0m",
      "\u001b[1;31mKeyboardInterrupt\u001b[0m                         Traceback (most recent call last)",
      "\u001b[1;32m<ipython-input-4-fe8867cfc1f1>\u001b[0m in \u001b[0;36m<module>\u001b[1;34m\u001b[0m\n\u001b[0;32m     20\u001b[0m \u001b[1;33m\u001b[0m\u001b[0m\n\u001b[0;32m     21\u001b[0m         \u001b[1;31m# Evaluate\u001b[0m\u001b[1;33m\u001b[0m\u001b[1;33m\u001b[0m\u001b[1;33m\u001b[0m\u001b[0m\n\u001b[1;32m---> 22\u001b[1;33m         \u001b[0mevals\u001b[0m \u001b[1;33m=\u001b[0m \u001b[0mevaluate\u001b[0m\u001b[1;33m(\u001b[0m\u001b[0margs\u001b[0m\u001b[1;33m=\u001b[0m\u001b[0margs\u001b[0m\u001b[1;33m)\u001b[0m\u001b[1;33m\u001b[0m\u001b[1;33m\u001b[0m\u001b[0m\n\u001b[0m\u001b[0;32m     23\u001b[0m         \u001b[0meval_results\u001b[0m\u001b[1;33m[\u001b[0m\u001b[1;34m\"%s\"\u001b[0m \u001b[1;33m%\u001b[0m \u001b[0mdesign\u001b[0m\u001b[1;33m+\u001b[0m\u001b[1;34m\"-\"\u001b[0m\u001b[1;33m+\u001b[0m\u001b[0msetup\u001b[0m\u001b[1;33m]\u001b[0m \u001b[1;33m=\u001b[0m \u001b[0mevals\u001b[0m\u001b[1;33m\u001b[0m\u001b[1;33m\u001b[0m\u001b[0m\n",
      "\u001b[1;32mD:\\equipment-pose-estimator\\src\\train.py\u001b[0m in \u001b[0;36mevaluate\u001b[1;34m(args)\u001b[0m\n\u001b[0;32m    496\u001b[0m \u001b[1;33m\u001b[0m\u001b[0m\n\u001b[0;32m    497\u001b[0m             \u001b[1;32mfor\u001b[0m \u001b[0mbatch\u001b[0m\u001b[1;33m,\u001b[0m \u001b[0mdata\u001b[0m \u001b[1;32min\u001b[0m \u001b[0menumerate\u001b[0m\u001b[1;33m(\u001b[0m\u001b[0mloader_test\u001b[0m\u001b[1;33m,\u001b[0m \u001b[1;36m1\u001b[0m\u001b[1;33m)\u001b[0m\u001b[1;33m:\u001b[0m\u001b[1;33m\u001b[0m\u001b[1;33m\u001b[0m\u001b[0m\n\u001b[1;32m--> 498\u001b[1;33m                 \u001b[0minput_data\u001b[0m \u001b[1;33m=\u001b[0m \u001b[0mdata\u001b[0m\u001b[1;33m[\u001b[0m\u001b[1;34m\"image\"\u001b[0m\u001b[1;33m]\u001b[0m\u001b[1;33m.\u001b[0m\u001b[0mto\u001b[0m\u001b[1;33m(\u001b[0m\u001b[0mdevice\u001b[0m\u001b[1;33m)\u001b[0m\u001b[1;33m\u001b[0m\u001b[1;33m\u001b[0m\u001b[0m\n\u001b[0m\u001b[0;32m    499\u001b[0m                 \u001b[0mtarget\u001b[0m \u001b[1;33m=\u001b[0m \u001b[0mdata\u001b[0m\u001b[1;33m[\u001b[0m\u001b[1;34m\"hmap\"\u001b[0m\u001b[1;33m]\u001b[0m\u001b[1;33m.\u001b[0m\u001b[0mto\u001b[0m\u001b[1;33m(\u001b[0m\u001b[0mdevice\u001b[0m\u001b[1;33m)\u001b[0m\u001b[1;33m\u001b[0m\u001b[1;33m\u001b[0m\u001b[0m\n\u001b[0;32m    500\u001b[0m                 \u001b[0mtarget_weight\u001b[0m \u001b[1;33m=\u001b[0m \u001b[1;32mNone\u001b[0m\u001b[1;33m\u001b[0m\u001b[1;33m\u001b[0m\u001b[0m\n",
      "\u001b[1;31mKeyboardInterrupt\u001b[0m: "
     ]
    }
   ],
   "source": [
    "eval_results = {}\n",
    "for idx_d, design in enumerate(tqdm.tqdm(test_design_list)):\n",
    "    setups_dir = os.path.join(datasets_dir, design)\n",
    "    reports_dir = os.path.join(test_report_dir, design)\n",
    "\n",
    "    setups_list = os.listdir(setups_dir)\n",
    "    for idx_s, setup in enumerate(setups_list):\n",
    "        # Set arguments for evaluation\n",
    "        vars[\"mode\"] = \"test\"\n",
    "\n",
    "        test_data_dir = os.path.join(setups_dir, setup)\n",
    "        vars[\"data_dir\"] = test_data_dir\n",
    "\n",
    "        with open(os.path.join(test_data_dir, \"test\", \"labels\", \"mpii_style.json\"), \"r\", encoding=\"utf-8\") as fread:\n",
    "            labels_dict = json.load(fread)\n",
    "            num_mark = len(labels_dict[0][\"joints_vis\"])\n",
    "        vars[\"num_mark\"] = num_mark\n",
    "\n",
    "        args.ckpt_dir = os.path.join(reports_dir, setup, \"checkpoint\")\n",
    "\n",
    "        # Evaluate\n",
    "        evals = evaluate(args=args)\n",
    "        eval_results[\"%s\" % design+\"-\"+setup] = evals"
   ]
  },
  {
   "cell_type": "code",
   "execution_count": 7,
   "metadata": {},
   "outputs": [
    {
     "name": "stdout",
     "output_type": "stream",
     "text": [
      "acc : [1. 1. 1. 1.], avg_acc : 1.0\n"
     ]
    }
   ],
   "source": [
    "blank = np.zeros((1,3,64,64))\n",
    "\n",
    "gt = blank.copy()\n",
    "for i in range(3):\n",
    "    gt[0, i, 16*(i+1)+i, 16*(i+1)+i] = 1\n",
    "\n",
    "acc_gt, avg_acc_gt, cnt_gt, pred_gt = accuracy(gt, gt)\n",
    "\n",
    "print(f\"acc : {acc_gt}, avg_acc : {avg_acc_gt}\")"
   ]
  },
  {
   "cell_type": "code",
   "execution_count": 10,
   "metadata": {},
   "outputs": [
    {
     "name": "stdout",
     "output_type": "stream",
     "text": [
      "acc : [1. 1. 1. 1.], avg_acc : 1.0\n"
     ]
    }
   ],
   "source": [
    "blank = np.zeros((1,3,64,64))\n",
    "\n",
    "example = blank.copy()\n",
    "for i in range(3):\n",
    "    example[0, i, 16*(i+1)+2**i, 16*(i+1)+2**i] = 1\n",
    "\n",
    "acc_ex, avg_acc_ex, cnt_ex, pred_ex = accuracy(example, gt)\n",
    "\n",
    "print(f\"acc : {acc_ex}, avg_acc : {avg_acc_ex}\")"
   ]
  },
  {
   "cell_type": "code",
   "execution_count": 8,
   "metadata": {},
   "outputs": [],
   "source": [
    "save_dir = os.path.join(test_report_dir, \"evaluation_test_dataset.json\")\n",
    "with open(save_dir, \"w\", encoding = \"UTF-8-SIG\") as file:\n",
    "    json.dump(eval_results, file, ensure_ascii=False)"
   ]
  },
  {
   "cell_type": "code",
   "execution_count": 11,
   "metadata": {},
   "outputs": [],
   "source": [
    "import torch"
   ]
  },
  {
   "cell_type": "code",
   "execution_count": 22,
   "metadata": {},
   "outputs": [],
   "source": [
    "pred = torch.zeros((1,3,63,65))\n",
    "pred[0,0,15,17] = 1\n",
    "pred[0,1,32,32] = 1\n",
    "pred[0,2,48,48] = 1"
   ]
  },
  {
   "cell_type": "code",
   "execution_count": 29,
   "metadata": {},
   "outputs": [
    {
     "name": "stdout",
     "output_type": "stream",
     "text": [
      "quo_h : 15, rem_h : 47\n",
      "quo_w : 15, rem_w : 17\n"
     ]
    }
   ],
   "source": [
    "shape = pred.size()\n",
    "argmax_0 = torch.argmax(pred[:,0,:,:])\n",
    "\n",
    "quo_h = argmax_0 // shape[2]\n",
    "rem_h = argmax_0 % shape[2]\n",
    "quo_w = argmax_0 // shape[3]\n",
    "rem_w = argmax_0 % shape[3]\n",
    "\n",
    "print(f\"quo_h : {quo_h}, rem_h : {rem_h}\")\n",
    "print(f\"quo_w : {quo_w}, rem_w : {rem_w}\")"
   ]
  },
  {
   "cell_type": "code",
   "execution_count": 28,
   "metadata": {},
   "outputs": [
    {
     "name": "stdout",
     "output_type": "stream",
     "text": [
      "tensor([0, 1, 2])\n",
      "torch.Size([1, 63, 65])\n"
     ]
    }
   ],
   "source": [
    "argmax = torch.argmax(pred, dim=1)\n",
    "print(torch.unique(argmax))\n",
    "print(argmax.shape)"
   ]
  },
  {
   "cell_type": "code",
   "execution_count": null,
   "metadata": {},
   "outputs": [],
   "source": []
  }
 ],
 "metadata": {
  "kernelspec": {
   "display_name": "Python [conda env:pytorch_cyclegan] *",
   "language": "python",
   "name": "conda-env-pytorch_cyclegan-py"
  },
  "language_info": {
   "codemirror_mode": {
    "name": "ipython",
    "version": 3
   },
   "file_extension": ".py",
   "mimetype": "text/x-python",
   "name": "python",
   "nbconvert_exporter": "python",
   "pygments_lexer": "ipython3",
   "version": "3.6.10"
  }
 },
 "nbformat": 4,
 "nbformat_minor": 4
}
